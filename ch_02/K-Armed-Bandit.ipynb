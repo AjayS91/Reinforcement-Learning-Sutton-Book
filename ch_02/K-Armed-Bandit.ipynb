{
 "cells": [
  {
   "cell_type": "markdown",
   "metadata": {},
   "source": [
    "# <span style=\"color:#2595bc\"><i>K</i>-Armed Bandit Problem</span>\n",
    "## <span style=\"color:#2595bc\"> Basics and Definitions </span>\n",
    "\n",
    "Imagine you have a slot machine with $K$-arms or levers. Whenever you pull down one lever, you are given a reward. Each lever arm has a reward associated with it. When the rewards associated with a lever do not change with time, ie they are fixed, it's <span style=\"color:#f31818\"><i>stationary problem</i></span>. When the rewards change with use of levers, it's a <span style=\"color:#f31818\"><i>non-stationary</i></span> one. Your objective is to maximize the expected total reward over some time period, for example, over 1000 action selections, or <i>time steps</i>\n",
    "\n",
    "Each of the $k$ actions have an expected or mean reward that we expect to get when we select that action. We denote the action selected on time step $t$ as $A_{t}$ and the corresponding reward as $R_{t}$. The <b><span style=\"color:#f31818\">action value</span></b> then of an arbitrary action $a$, denoted $q_{∗}(a)$, is the expected reward given that a is selected:<br>\n",
    "    $$q_{*} = \\mathbb{E}[R_{t}|A_{t}=a]$$\n",
    "    <br>\n",
    "Simply put, we <b>estimate</b> how much reward we ought to get when we choose action $a$ based on our previous experiences when we chose the same action.If you knew the value of each action, then it would be trivial to solve the k-armed bandit problem: you would always select the action with highest value in order to maximize the objective. We assume that you do not know the action values with certainty, although we may make estimates as we play the game. Based on our ever-evolving estimates we will choose our option that is most likely to give us the most reward.\n",
    "\n",
    "## <span style=\"color:#2595bc\"> Explorations VS Exploitation</span>\n",
    "\n",
    "If you maintain estimates of the action values, then at any time step there is at\n",
    "least one action whose estimated value is greatest. We call these the <b><i>greedy</i></b> actions.\n",
    "When you select one of these actions, we say that you are <b><i><span style=\"color:#f31818\">exploiting</i></b></span> your current\n",
    "knowledge of the values of the actions. If instead you select one of the <b><i>nongreedy</i></b> actions, then we say you are <b><i><span style=\"color:#f31818\">exploring</span></i></b>, because this enables you to improve your\n",
    "estimate of the nongreedy action’s value. Exploitation is the right thing to do to\n",
    "maximize the expected reward on the one step, but exploration may produce the\n",
    "greater total reward in the long run.\n",
    "\n",
    "Reward is lower in the short run, during exploration, but higher in the long run because after you have discovered the better actions, you can exploit them many times. Because it is not possible both to explore and to exploit with any single action selection, one often refers to the “conflict” between exploration and exploitation.\n",
    "\n",
    "## <span style=\"color:#2595bc\">Estimating Action Values</span>\n",
    "\n",
    "The simplest and intuitive way of estimating Action Value at step $t$ for a particular action $a$ is to take the <i>mean</i> of the rewards we got in the past whenever we chose action $a$.<br>\n",
    "$$Q_{t}(a) = \\frac{\\text{sum of rewards when $a$ taken prior to $t$}}{\\text{number of times $a$ taken prior to $t$}} = \\frac{\\sum_{i=1}^{t-1}R_{i}\\cdot \\textbf{1}_{\\text A_{i}=a}} {\\sum_{i=1}^{t-1}\\textbf{1}_{\\text A_{i}=a}}$$\n",
    "\n",
    "where $\\textbf 1_{condition}$ denotes is 1 if $condition$ is true and 0 if it is not. Simply put, the above expression just estimates the average returns each time we chose action $a$ , prior to state $t$\n",
    "\n",
    "If the denominator is zero, then we instead define $Q_{t}(a)$ as some default value,\n",
    "such as $Q_{1}(a) = 0$\n",
    "\n",
    "## <span style=\"color:#2595bc\"> Which action to take( or which lever to pull)? </span>\n",
    "\n",
    "\n",
    "The simplest action selection rule is to select the action (or one of the actions)\n",
    "with <span style=\"color:#f31818\">highest estimated action value</span>, that is, to select at step $t$ one of the greedy\n",
    "actions, $A_{∗}^t$ , for which $Q_{t}(A_{t}^*) = max_{a} Q_{t}(a)$. \n",
    "\n",
    "All that the above equation says is that, at a given state $t$, the action $a$ will be our preferred choice i.e $a$ will be $A_{t}^*$ if the action value associated with $a$ , which is $Q_{t}(a)$ is the maximum among all action values for all possibilites of $a$.\n",
    "\n",
    "\n",
    "The above <i><span style=\"color:#f31818\">greedy action selection</span></i> method can be also be written mathematically as :- \n",
    "$$A_{t} = argmax_a Q_t(a)$$\n",
    "where $argmax_a$ denotes the value of $a$ at which the expression that follows is maximized\n",
    "(with ties broken arbitrarily)\n",
    "\n",
    "\n",
    "## <span style=\"color:#2595bc\">Okay. But what about exploration?</span>\n",
    "\n",
    "Greedy action selection always exploits current knowledge to maximize immediate reward; it spends no time at all sampling apparently\n",
    "inferior actions to see if they might really be better. A simple alternative is to\n",
    "behave greedily most of the time, but every once in a while, say with small probability\n",
    "$\\varepsilon$, instead to select randomly from amongst all the actions with equal probability\n",
    "independently of the action-value estimates.We call methods using this near-greedy\n",
    "action selection rule <i><span style=\"color:#f31818\">$\\varepsilon-greedy$ methods</i></span>. \n",
    "\n",
    "\n",
    "\n"
   ]
  },
  {
   "cell_type": "code",
   "execution_count": 1,
   "metadata": {},
   "outputs": [],
   "source": [
    "#Import dependencies\n",
    "import numpy as np\n",
    "import random\n",
    "import matplotlib\n",
    "from matplotlib import pyplot as plt\n",
    "%matplotlib inline\n"
   ]
  },
  {
   "cell_type": "code",
   "execution_count": 2,
   "metadata": {},
   "outputs": [
    {
     "data": {
      "image/png": "[encoded data removed]",
      "text/plain": [
       "<matplotlib.figure.Figure at 0x7ffb6ac1bfd0>"
      ]
     },
     "metadata": {},
     "output_type": "display_data"
    }
   ],
   "source": [
    "# An example bandit problem \n",
    "\n",
    "import random\n",
    "import numpy as np\n",
    "import matplotlib.pyplot as plt\n",
    "\n",
    "def example_bandit_rewards_plot():\n",
    "    # fake data\n",
    "    fs = 10  # fontsize\n",
    "    pos = [1, 2, 3, 4, 5, 6, 7, 8, 9, 10]\n",
    "    data = [np.random.normal(0, std, size=100) for std in pos]\n",
    "\n",
    "    fig, axes = plt.subplots(nrows=1, ncols=1, figsize=(6, 6))\n",
    "    optimal_action_values = np.random.normal(0, 1, size=10)\n",
    "\n",
    "    rewards = [np.random.normal(optimal_action_value,1,size=100) for optimal_action_value in optimal_action_values]\n",
    "\n",
    "    axes.violinplot(rewards, pos, points=20, \n",
    "                          showmeans=True, showextrema=False, showmedians=False)\n",
    "    #axes.set_title('Reward Distribution for different Actions', fontsize=fs)\n",
    "\n",
    "\n",
    "    axes.set_xlabel(\"Action\")\n",
    "    axes.set_xticks(pos)\n",
    "    axes.set_ylabel(\"Reward Distribution\")\n",
    "    fig.suptitle(\"Reward Distribution for different Actions\")\n",
    "    #fig.subplots_adjust(hspace=0.4)\n",
    "    plt.show()\n",
    "\n",
    "example_bandit_rewards_plot()\n"
   ]
  },
  {
   "cell_type": "code",
   "execution_count": 5,
   "metadata": {},
   "outputs": [
    {
     "name": "stdout",
     "output_type": "stream",
     "text": [
      "Average Reward : Epsilon : 0.1 \t 2.1112099305602143\n",
      "Average Reward : Epsilon : 0 \t 1.112563369008241\n"
     ]
    },
    {
     "data": {
      "text/plain": [
       "[<matplotlib.lines.Line2D at 0x7ffb68ac0208>]"
      ]
     },
     "execution_count": 5,
     "metadata": {},
     "output_type": "execute_result"
    },
    {
     "data": {
      "image/png": "[encoded data removed]",
      "text/plain": [
       "<matplotlib.figure.Figure at 0x7ffb68ac0e48>"
      ]
     },
     "metadata": {},
     "output_type": "display_data"
    }
   ],
   "source": [
    "#Multi Armed bandit \n",
    "list_optimal = [0.5,0.7,0.9,1.1,2.4,0.1,0.9,0.1,0.3,0.7]\n",
    "\n",
    "def greedy_bandit(arms=10,mean_optimal=0,std_dev_optimal=1,std_dev_reward=1,init_expectation = 0,iterations=1000,epsilon=0.1,):\n",
    "    no_of_actions = arms\n",
    "    #optimal_action_values = np.random.normal(mean_optimal, std_dev_optimal, size=no_of_actions)\n",
    "    optimal_action_values = list_optimal\n",
    "    expect = [init_expectation]*no_of_actions\n",
    "    act_occur = [0]*no_of_actions\n",
    "\n",
    "    def get_maxvalue_index(list_):\n",
    "        #Get list of indexes which contain maximum value in a list\n",
    "        indexes_of_max_values = np.argwhere(list_ == np.amax(list_)).flatten().tolist()\n",
    "        #return an index randomly\n",
    "        return random.choice(indexes_of_max_values)\n",
    "\n",
    "    avg_rward_list = [0]\n",
    "    avg_rward_value = 0\n",
    "\n",
    "\n",
    "    counter = 0\n",
    "    #print (optimal_action_values)\n",
    "   \n",
    "    for t in range(iterations):\n",
    "\n",
    "        counter += 1\n",
    "        print\n",
    "        if random.random()<epsilon:\n",
    "            act_index = random.randint(0,no_of_actions-1)\n",
    "            #print (\"*\")\n",
    "        else:\n",
    "            act_index = (get_maxvalue_index(expect))\n",
    "        act_occur[act_index]+=1\n",
    "        rward_t = np.random.normal(optimal_action_values[act_index],std_dev_reward)\n",
    "\n",
    "        expect[act_index] = (((expect[act_index]*(act_occur[act_index]-1))+rward_t)/(act_occur[act_index]))\n",
    "\n",
    "        avg_rward_value = ((avg_rward_value*(counter-1))+rward_t)/(counter)\n",
    "        avg_rward_list.append(avg_rward_value)\n",
    "        #print  (act_index)\n",
    "    #plt.plot(avg_rward_list,color=colr)\n",
    "    #print (\"Average Reward : Greedy : \\t\",avg_rward_value)\n",
    "    return avg_rward_list,avg_rward_value\n",
    "\n",
    "\n",
    "def greedy_experiment(arms=10,mean_optimal=0,std_dev_optimal=1,std_dev_reward=1,init_expectation = 0,iterations=1000,epsilon=0.1,no_of_exp = 500):\n",
    "    rward_list = [0]\n",
    "    rward_value = 0\n",
    "    for x in range(no_of_exp):\n",
    "        avg_lists, avg_values = greedy_bandit(arms,mean_optimal,std_dev_optimal,std_dev_reward,init_expectation,iterations,epsilon)\n",
    "        if x == 0:\n",
    "            rward_list = avg_lists\n",
    "            rward_value = avg_values\n",
    "        else:\n",
    "            rward_list = np.add(np.dot(x,rward_list),avg_lists)/(x+1)\n",
    "            rward_value = ((x*rward_value)+avg_values)/(x+1)\n",
    "  \n",
    "    print (\"Average Reward : Epsilon :\",epsilon, \"\\t\",rward_value)\n",
    "    return (rward_list)\n",
    "#a = plot_greedy(epsilon=0.1)\n",
    "#b = plot_greedy(epsilon=0.5)\n",
    "plt.plot(greedy_experiment(epsilon=0.1),color='r')\n",
    "plt.plot(greedy_experiment(epsilon=0),color='b')"
   ]
  },
  {
   "cell_type": "markdown",
   "metadata": {},
   "source": [
    "## <span style=\"color:#2595bc\">Okay. But what about exploration?</span>"
   ]
  },
  {
   "cell_type": "code",
   "execution_count": null,
   "metadata": {},
   "outputs": [],
   "source": []
  }
 ],
 "metadata": {
  "kernelspec": {
   "display_name": "Python 3",
   "language": "python",
   "name": "python3"
  },
  "language_info": {
   "codemirror_mode": {
    "name": "ipython",
    "version": 3
   },
   "file_extension": ".py",
   "mimetype": "text/x-python",
   "name": "python",
   "nbconvert_exporter": "python",
   "pygments_lexer": "ipython3",
   "version": "3.5.2"
  }
 },
 "nbformat": 4,
 "nbformat_minor": 2
}
